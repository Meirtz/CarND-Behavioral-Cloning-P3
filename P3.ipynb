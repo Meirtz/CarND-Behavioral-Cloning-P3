{
 "cells": [
  {
   "cell_type": "code",
   "execution_count": 1,
   "metadata": {
    "collapsed": true
   },
   "outputs": [],
   "source": [
    "import csv\n",
    "import cv2\n",
    "import numpy as np\n",
    "\n",
    "lines = []\n",
    "\n",
    "with open('./data/driving_log.csv') as csvfile:\n",
    "    reader = csv.reader(csvfile)\n",
    "    for line in reader:\n",
    "        lines.append(line)"
   ]
  },
  {
   "cell_type": "code",
   "execution_count": 2,
   "metadata": {
    "collapsed": true
   },
   "outputs": [],
   "source": [
    "def process_img(img):\n",
    "    img = cv2.cvtColor(img, cv2.COLOR_RGB2YUV)\n",
    "    return img"
   ]
  },
  {
   "cell_type": "code",
   "execution_count": 3,
   "metadata": {
    "collapsed": true
   },
   "outputs": [],
   "source": [
    "car_images = []\n",
    "steering_angles = []\n",
    "for row in lines[1:]:\n",
    "    steering_center = float(row[3])\n",
    "\n",
    "    # create adjusted steering measurements for the side camera images\n",
    "    correction = 0.3 # this is a parameter to tune\n",
    "    steering_left = steering_center + correction\n",
    "    steering_right = steering_center - correction\n",
    "\n",
    "    # read in images from center, left and right cameras\n",
    "    path = './data/' # fill in the path to your training IMG directory\n",
    "    \n",
    "    img_center = process_img(cv2.imread(path + row[0].replace(\" \", \"\")))\n",
    "    img_center_fliped = np.fliplr(img_center)\n",
    "    img_left = process_img(cv2.imread(path + row[1].replace(\" \", \"\")))\n",
    "    img_left_fliped = np.fliplr(img_left)\n",
    "    img_right = process_img(cv2.imread(path + row[2].replace(\" \", \"\")))\n",
    "    img_right_fliped = np.fliplr(img_right)\n",
    "\n",
    "    # add images and angles to data set\n",
    "    car_images.extend([img_center, img_left, img_right, img_center_fliped, img_left_fliped, img_right_fliped])\n",
    "    steering_angles.extend([steering_center, steering_left, steering_right, -1.0 * steering_center, -1.0 * steering_left, -1.0 * steering_right])"
   ]
  },
  {
   "cell_type": "code",
   "execution_count": 4,
   "metadata": {},
   "outputs": [],
   "source": [
    "\n",
    "lines = []\n",
    "\n",
    "with open('./new_data_t1_2/driving_log.csv') as csvfile:\n",
    "    reader = csv.reader(csvfile)\n",
    "    for line in reader:\n",
    "        lines.append(line)\n",
    "for row in lines[1:]:\n",
    "    steering_center = float(row[3])\n",
    "\n",
    "    # create adjusted steering measurements for the side camera images\n",
    "    correction = 0.25 # this is a parameter to tune\n",
    "    steering_left = steering_center + correction\n",
    "    steering_right = steering_center - correction\n",
    "\n",
    "    # read in images from center, left and right cameras\n",
    "    path = '' # fill in the path to your training IMG directory\n",
    "    \n",
    "    img_center = process_img(cv2.imread(path + row[0].replace(\" \", \"\")))\n",
    "    img_center_fliped = np.fliplr(img_center)\n",
    "    img_left = process_img(cv2.imread(path + row[1].replace(\" \", \"\")))\n",
    "    img_left_fliped = np.fliplr(img_left)\n",
    "    img_right = process_img(cv2.imread(path + row[2].replace(\" \", \"\")))\n",
    "    img_right_fliped = np.fliplr(img_right)\n",
    "\n",
    "    # add images and angles to data set\n",
    "    car_images.extend([img_center, img_left, img_right, img_center_fliped, img_left_fliped, img_right_fliped])\n",
    "    steering_angles.extend([steering_center, steering_left, steering_right, -1.0 * steering_center, -1.0 * steering_left, -1.0 * steering_right])"
   ]
  },
  {
   "cell_type": "code",
   "execution_count": 5,
   "metadata": {},
   "outputs": [],
   "source": [
    "from sklearn.model_selection import train_test_split\n",
    "X_train = np.array(car_images)\n",
    "del car_images\n",
    "y_train = np.array(steering_angles)\n",
    "del steering_angles\n",
    "#X_train, X_test, y_train, y_test = train_test_split(X_train, y_train, test_size=0.2, random_state=2333)"
   ]
  },
  {
   "cell_type": "code",
   "execution_count": 6,
   "metadata": {},
   "outputs": [
    {
     "name": "stderr",
     "output_type": "stream",
     "text": [
      "Using TensorFlow backend.\n"
     ]
    }
   ],
   "source": [
    "import keras\n",
    "from keras import backend as K\n",
    "from keras.models import *\n",
    "from keras.layers import *\n",
    "from keras.activations import *\n",
    "\n",
    "image_shape = X_train[0].shape\n",
    "\n",
    "model = Sequential()\n",
    "model.add(Lambda(lambda x: x / 225.0 - 0.5, input_shape=image_shape))\n",
    "model.add(Cropping2D(cropping=((50,20), (0,0)), input_shape=(3,160,320)))\n",
    "\n",
    "model.add(Conv2D(24, (5,5), strides=(2,2), activation=None, padding='valid'))\n",
    "model.add(BatchNormalization())\n",
    "model.add(Activation('elu'))\n",
    "\n",
    "model.add(Conv2D(32, (5,5), strides=(2,2), activation=None, padding='valid'))\n",
    "model.add(BatchNormalization())\n",
    "model.add(Activation('elu'))\n",
    "\n",
    "#model.add(Conv2D(32, (5,5), strides=(2,2), activation=None, padding='valid'))\n",
    "#model.add(BatchNormalization())\n",
    "#model.add(Activation('elu'))\n",
    "#model.add(MaxPooling2D(pool_size=(2, 2), padding='same'))\n",
    "\n",
    "model.add(Conv2D(48, (3,3), strides=(1,1), activation=None, padding='valid'))\n",
    "model.add(BatchNormalization())\n",
    "model.add(Activation('elu'))\n",
    "\n",
    "model.add(Conv2D(48, (3,3), strides=(1,1), activation=None, padding='valid'))\n",
    "model.add(BatchNormalization())\n",
    "model.add(Activation('elu'))\n",
    "#model.add(MaxPooling2D(pool_size=(2, 2)))\n",
    "\n",
    "model.add(Flatten())\n",
    "model.add(Dropout(0.5))\n",
    "model.add(Dense(128,kernel_regularizer=regularizers.l2(0.01)))\n",
    "model.add(Activation('relu'))\n",
    "model.add(Dropout(0.2))\n",
    "model.add(Dense(64,kernel_regularizer=regularizers.l2(0.01)))\n",
    "model.add(Activation('relu'))\n",
    "model.add(Dropout(0.2))\n",
    "model.add(Dense(32,kernel_regularizer=regularizers.l2(0.01)))\n",
    "model.add(Activation('relu'))\n",
    "model.add(Dense(1))\n",
    "\n",
    "model.compile(loss='mse', optimizer='adam', lr=0.0001)"
   ]
  },
  {
   "cell_type": "code",
   "execution_count": 7,
   "metadata": {
    "scrolled": false
   },
   "outputs": [],
   "source": [
    "import matplotlib.pyplot as plt\n",
    "#from keras.utils.vis_utils import plot_model\n",
    "#from IPython.display import Image\n",
    "#plt.rcParams['figure.figsize'] = (3, 1)\n",
    "#plot_model(model, to_file='model.png', show_shapes=True)\n",
    "#Image(filename = 'model.png')"
   ]
  },
  {
   "cell_type": "code",
   "execution_count": 8,
   "metadata": {
    "scrolled": false
   },
   "outputs": [
    {
     "name": "stderr",
     "output_type": "stream",
     "text": [
      "/home/meirtz/anaconda3/envs/dl_dev/lib/python3.5/site-packages/keras/backend/tensorflow_backend.py:2250: UserWarning: Expected no kwargs, you passed 1\n",
      "kwargs passed to function are ignored with Tensorflow backend\n",
      "  warnings.warn('\\n'.join(msg))\n"
     ]
    },
    {
     "name": "stdout",
     "output_type": "stream",
     "text": [
      "Train on 64521 samples, validate on 16131 samples\n",
      "Epoch 1/15\n",
      "64512/64521 [============================>.] - ETA: 0s - loss: 3.4216Epoch 00000: val_loss improved from inf to 0.81999, saving model to ./models/t1/weights-improvement-00-0.82.f5\n",
      "64521/64521 [==============================] - 86s - loss: 3.4213 - val_loss: 0.8200\n",
      "Epoch 2/15\n",
      "64512/64521 [============================>.] - ETA: 0s - loss: 0.5149Epoch 00001: val_loss improved from 0.81999 to 0.33310, saving model to ./models/t1/weights-improvement-01-0.33.f5\n",
      "64521/64521 [==============================] - 88s - loss: 0.5148 - val_loss: 0.3331\n",
      "Epoch 3/15\n",
      "64512/64521 [============================>.] - ETA: 0s - loss: 0.2392Epoch 00002: val_loss improved from 0.33310 to 0.16975, saving model to ./models/t1/weights-improvement-02-0.17.f5\n",
      "64521/64521 [==============================] - 87s - loss: 0.2391 - val_loss: 0.1697\n",
      "Epoch 4/15\n",
      "64512/64521 [============================>.] - ETA: 0s - loss: 0.1301Epoch 00003: val_loss improved from 0.16975 to 0.09665, saving model to ./models/t1/weights-improvement-03-0.10.f5\n",
      "64521/64521 [==============================] - 85s - loss: 0.1301 - val_loss: 0.0966\n",
      "Epoch 5/15\n",
      "64512/64521 [============================>.] - ETA: 0s - loss: 0.0814Epoch 00004: val_loss improved from 0.09665 to 0.06696, saving model to ./models/t1/weights-improvement-04-0.07.f5\n",
      "64521/64521 [==============================] - 87s - loss: 0.0814 - val_loss: 0.0670\n",
      "Epoch 6/15\n",
      "64512/64521 [============================>.] - ETA: 0s - loss: 0.0582Epoch 00005: val_loss improved from 0.06696 to 0.05293, saving model to ./models/t1/weights-improvement-05-0.05.f5\n",
      "64521/64521 [==============================] - 86s - loss: 0.0582 - val_loss: 0.0529\n",
      "Epoch 7/15\n",
      "64512/64521 [============================>.] - ETA: 0s - loss: 0.0470Epoch 00006: val_loss improved from 0.05293 to 0.04213, saving model to ./models/t1/weights-improvement-06-0.04.f5\n",
      "64521/64521 [==============================] - 87s - loss: 0.0470 - val_loss: 0.0421\n",
      "Epoch 8/15\n",
      "64512/64521 [============================>.] - ETA: 0s - loss: 0.0402Epoch 00007: val_loss did not improve\n",
      "64521/64521 [==============================] - 86s - loss: 0.0402 - val_loss: 0.0424\n",
      "Epoch 9/15\n",
      "64512/64521 [============================>.] - ETA: 0s - loss: 0.0374Epoch 00008: val_loss improved from 0.04213 to 0.03722, saving model to ./models/t1/weights-improvement-08-0.04.f5\n",
      "64521/64521 [==============================] - 87s - loss: 0.0374 - val_loss: 0.0372\n",
      "Epoch 10/15\n",
      "64512/64521 [============================>.] - ETA: 0s - loss: 0.0365Epoch 00009: val_loss did not improve\n",
      "64521/64521 [==============================] - 87s - loss: 0.0365 - val_loss: 0.0450\n",
      "Epoch 11/15\n",
      "64512/64521 [============================>.] - ETA: 0s - loss: 0.0370Epoch 00010: val_loss did not improve\n",
      "64521/64521 [==============================] - 87s - loss: 0.0370 - val_loss: 0.0379\n",
      "Epoch 12/15\n",
      "64512/64521 [============================>.] - ETA: 0s - loss: 0.0383Epoch 00011: val_loss improved from 0.03722 to 0.03671, saving model to ./models/t1/weights-improvement-11-0.04.f5\n",
      "64521/64521 [==============================] - 87s - loss: 0.0383 - val_loss: 0.0367\n",
      "Epoch 13/15\n",
      "64512/64521 [============================>.] - ETA: 0s - loss: 0.0376Epoch 00012: val_loss did not improve\n",
      "64521/64521 [==============================] - 88s - loss: 0.0376 - val_loss: 0.0394\n",
      "Epoch 14/15\n",
      "64512/64521 [============================>.] - ETA: 0s - loss: 0.0376Epoch 00013: val_loss did not improve\n",
      "64521/64521 [==============================] - 87s - loss: 0.0376 - val_loss: 0.0375\n",
      "Epoch 15/15\n",
      "64512/64521 [============================>.] - ETA: 0s - loss: 0.0381Epoch 00014: val_loss did not improve\n",
      "64521/64521 [==============================] - 84s - loss: 0.0381 - val_loss: 0.0472\n"
     ]
    }
   ],
   "source": [
    "from keras.models import Model, load_model\n",
    "from keras.callbacks import ModelCheckpoint\n",
    "#model = load_model('model.h5')\n",
    "\n",
    "filepath=\"./models/t1/weights-improvement-{epoch:02d}-{val_loss:.2f}.f5\"\n",
    "checkpoint = ModelCheckpoint(filepath, monitor='val_loss', verbose=1, save_best_only=True, mode='min')\n",
    "callbacks_list = [checkpoint]\n",
    "\n",
    "history_object = model.fit(X_train,\n",
    "                           y_train,\n",
    "                           batch_size=128,\n",
    "                           validation_split=0.2,\n",
    "                           epochs=15,\n",
    "                           shuffle=True,\n",
    "                           callbacks=callbacks_list)"
   ]
  },
  {
   "cell_type": "code",
   "execution_count": 9,
   "metadata": {},
   "outputs": [
    {
     "name": "stdout",
     "output_type": "stream",
     "text": [
      "dict_keys(['val_loss', 'loss'])\n"
     ]
    },
    {
     "data": {
      "image/png": "[encoded data removed]",
      "text/plain": [
       "<matplotlib.figure.Figure at 0x7f2b3b0be390>"
      ]
     },
     "metadata": {},
     "output_type": "display_data"
    }
   ],
   "source": [
    "print(history_object.history.keys())\n",
    "plt.rcParams['figure.figsize'] = (16, 9)\n",
    "\n",
    "### plot the training and validation loss for each epoch\n",
    "plt.plot(history_object.history['loss'][1:])\n",
    "plt.plot(history_object.history['val_loss'][1:])\n",
    "plt.title('model mean squared error loss')\n",
    "plt.ylabel('mean squared error loss')\n",
    "plt.xlabel('epoch')\n",
    "plt.legend(['training set', 'validation set'], loc='upper right')\n",
    "plt.show()"
   ]
  },
  {
   "cell_type": "code",
   "execution_count": 10,
   "metadata": {
    "collapsed": true
   },
   "outputs": [],
   "source": [
    "model.save('./models/t1/final_model.h5')"
   ]
  },
  {
   "cell_type": "code",
   "execution_count": null,
   "metadata": {
    "collapsed": true
   },
   "outputs": [],
   "source": []
  }
 ],
 "metadata": {
  "kernelspec": {
   "display_name": "Python 3",
   "language": "python",
   "name": "python3"
  },
  "language_info": {
   "codemirror_mode": {
    "name": "ipython",
    "version": 3
   },
   "file_extension": ".py",
   "mimetype": "text/x-python",
   "name": "python",
   "nbconvert_exporter": "python",
   "pygments_lexer": "ipython3",
   "version": "3.5.4"
  }
 },
 "nbformat": 4,
 "nbformat_minor": 2
}
